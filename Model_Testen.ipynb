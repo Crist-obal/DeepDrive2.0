{
 "cells": [
  {
   "cell_type": "code",
   "execution_count": 14,
   "metadata": {},
   "outputs": [
    {
     "name": "stdout",
     "output_type": "stream",
     "text": [
      "\u001b[1m1/1\u001b[0m \u001b[32m━━━━━━━━━━━━━━━━━━━━\u001b[0m\u001b[37m\u001b[0m \u001b[1m0s\u001b[0m 41ms/step\n",
      "Bild: Optimusprimealtmoviemode.jpg - Vorhersage: [[0.6174568]]\n",
      "\u001b[1m1/1\u001b[0m \u001b[32m━━━━━━━━━━━━━━━━━━━━\u001b[0m\u001b[37m\u001b[0m \u001b[1m0s\u001b[0m 11ms/step\n",
      "Bild: lkw-autonom-man-100.jpeg - Vorhersage: [[0.5547277]]\n",
      "\u001b[1m1/1\u001b[0m \u001b[32m━━━━━━━━━━━━━━━━━━━━\u001b[0m\u001b[37m\u001b[0m \u001b[1m0s\u001b[0m 10ms/step\n",
      "Bild: Arni.jpeg - Vorhersage: [[0.01063273]]\n",
      "\u001b[1m1/1\u001b[0m \u001b[32m━━━━━━━━━━━━━━━━━━━━\u001b[0m\u001b[37m\u001b[0m \u001b[1m0s\u001b[0m 11ms/step\n",
      "Bild: Lightning_McQueen.jpeg - Vorhersage: [[0.9104897]]\n",
      "\u001b[1m1/1\u001b[0m \u001b[32m━━━━━━━━━━━━━━━━━━━━\u001b[0m\u001b[37m\u001b[0m \u001b[1m0s\u001b[0m 11ms/step\n",
      "Bild: flugzeug-landen.jpeg - Vorhersage: [[0.959208]]\n",
      "\u001b[1m1/1\u001b[0m \u001b[32m━━━━━━━━━━━━━━━━━━━━\u001b[0m\u001b[37m\u001b[0m \u001b[1m0s\u001b[0m 10ms/step\n",
      "Bild: media.media.641854de-8c92-4d32-b1a7-3b4c1068c8cc.original1024.jpg - Vorhersage: [[0.0044975]]\n",
      "\u001b[1m1/1\u001b[0m \u001b[32m━━━━━━━━━━━━━━━━━━━━\u001b[0m\u001b[37m\u001b[0m \u001b[1m0s\u001b[0m 11ms/step\n",
      "Bild: audi_r8.jpg - Vorhersage: [[0.03494703]]\n",
      "\u001b[1m1/1\u001b[0m \u001b[32m━━━━━━━━━━━━━━━━━━━━\u001b[0m\u001b[37m\u001b[0m \u001b[1m0s\u001b[0m 11ms/step\n",
      "Bild: PrimeRenderROTB.jpeg - Vorhersage: [[0.00038467]]\n",
      "\u001b[1m1/1\u001b[0m \u001b[32m━━━━━━━━━━━━━━━━━━━━\u001b[0m\u001b[37m\u001b[0m \u001b[1m0s\u001b[0m 10ms/step\n",
      "Bild: queen-elizabeth.jpeg - Vorhersage: [[7.151605e-11]]\n",
      "\u001b[1m1/1\u001b[0m \u001b[32m━━━━━━━━━━━━━━━━━━━━\u001b[0m\u001b[37m\u001b[0m \u001b[1m0s\u001b[0m 11ms/step\n",
      "Bild: blog-welches-fahrrad-2.jpg - Vorhersage: [[0.38164875]]\n"
     ]
    }
   ],
   "source": [
    "import tensorflow as tf\n",
    "import numpy as np\n",
    "from PIL import Image\n",
    "import os\n",
    "\n",
    "# Pfad zu deinem TensorFlow-Modell\n",
    "MODEL_PATH = 'h5_5epochs.keras'\n",
    "\n",
    "# Pfad zum Ordner mit den Testbildern\n",
    "IMAGE_FOLDER_PATH = '/Users/cristobalschmidt/DeepDrive2.0/Spaß'\n",
    "#IMAGE_FOLDER_PATH = '/Users/cristobalschmidt/DeepDrive2.0/data/vehicles'\n",
    "\n",
    "# Bildgröße (die gleiche wie die Größe, auf die dein Modell trainiert wurde)\n",
    "IMG_HEIGHT = 64\n",
    "IMG_WIDTH = 64\n",
    "\n",
    "# Lade das Modell\n",
    "model = tf.keras.models.load_model(MODEL_PATH)\n",
    "\n",
    "# Hilfsfunktion zum Laden und Vorverarbeiten von Bildern\n",
    "def load_and_preprocess_image(image_path):\n",
    "    img = Image.open(image_path)\n",
    "    img = img.resize((IMG_WIDTH, IMG_HEIGHT))\n",
    "    img_array = np.array(img) / 255.0  # Normierung der Bilddaten\n",
    "    return np.expand_dims(img_array, axis=0)  # Hinzufügen einer Batch-Dimension\n",
    "\n",
    "# Hilfsfunktion zum Testen des Modells mit Bildern aus einem Ordner\n",
    "def test_model_with_images(model, folder_path):\n",
    "    image_files = [f for f in os.listdir(folder_path) if f.lower().endswith(('png', 'jpg', 'jpeg'))]\n",
    "    for image_file in image_files:\n",
    "        image_path = os.path.join(folder_path, image_file)\n",
    "        img = load_and_preprocess_image(image_path)\n",
    "        prediction = model.predict(img)\n",
    "        print(f'Bild: {image_file} - Vorhersage: {prediction}')\n",
    "\n",
    "# Teste das Modell mit Bildern aus dem Ordner\n",
    "test_model_with_images(model, IMAGE_FOLDER_PATH)"
   ]
  },
  {
   "cell_type": "code",
   "execution_count": null,
   "metadata": {},
   "outputs": [],
   "source": []
  }
 ],
 "metadata": {
  "kernelspec": {
   "display_name": "Python 3",
   "language": "python",
   "name": "python3"
  },
  "language_info": {
   "codemirror_mode": {
    "name": "ipython",
    "version": 3
   },
   "file_extension": ".py",
   "mimetype": "text/x-python",
   "name": "python",
   "nbconvert_exporter": "python",
   "pygments_lexer": "ipython3",
   "version": "3.9.6"
  }
 },
 "nbformat": 4,
 "nbformat_minor": 2
}

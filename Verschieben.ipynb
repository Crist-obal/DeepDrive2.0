{
 "cells": [
  {
   "cell_type": "code",
   "execution_count": 1,
   "metadata": {},
   "outputs": [
    {
     "name": "stdout",
     "output_type": "stream",
     "text": [
      "1000 Dateien wurden erfolgreich verschoben.\n",
      "1000 Dateien wurden erfolgreich verschoben.\n",
      "1000 Dateien wurden erfolgreich verschoben.\n",
      "1000 Dateien wurden erfolgreich verschoben.\n"
     ]
    }
   ],
   "source": [
    "import os\n",
    "import random\n",
    "import shutil\n",
    "\n",
    "def move_random_files(source_dir, target_dir, num_files):\n",
    "    # Stelle sicher, dass der Zielordner existiert, wenn nicht, erstelle ihn\n",
    "    if not os.path.exists(target_dir):\n",
    "        os.makedirs(target_dir)\n",
    "    \n",
    "    # Liste aller Dateien im Quellordner\n",
    "    all_files = [f for f in os.listdir(source_dir) if os.path.isfile(os.path.join(source_dir, f))]\n",
    "    \n",
    "    # Überprüfe, ob genügend Dateien im Quellordner vorhanden sind\n",
    "    if len(all_files) < num_files:\n",
    "        raise ValueError(f\"Nicht genügend Dateien im Quellordner. Es sind nur {len(all_files)} Dateien vorhanden.\")\n",
    "    \n",
    "    # Wähle zufällig Dateien aus\n",
    "    random_files = random.sample(all_files, num_files)\n",
    "    \n",
    "    # Verschiebe die ausgewählten Dateien\n",
    "    for file in random_files:\n",
    "        src_path = os.path.join(source_dir, file)\n",
    "        dest_path = os.path.join(target_dir, file)\n",
    "        shutil.move(src_path, dest_path)\n",
    "    \n",
    "    print(f\"{num_files} Dateien wurden erfolgreich verschoben.\")\n",
    "\n",
    "# Beispielhafte Verwendung\n",
    "number_of_files = 1000\n",
    "source_directory = './data/vehicles'\n",
    "target_directory = './Test/vehicles'\n",
    "\n",
    "move_random_files(source_directory, target_directory, number_of_files)\n",
    "\n",
    "target_directory = './Validation/vehicles'\n",
    "\n",
    "move_random_files(source_directory, target_directory, number_of_files)\n",
    "\n",
    "source_directory = './data/non-vehicles'\n",
    "target_directory = './Test/non-vehicles'\n",
    "\n",
    "move_random_files(source_directory, target_directory, number_of_files)\n",
    "\n",
    "target_directory = './Validation/non-vehicles'\n",
    "\n",
    "move_random_files(source_directory, target_directory, number_of_files)"
   ]
  },
  {
   "cell_type": "code",
   "execution_count": null,
   "metadata": {},
   "outputs": [],
   "source": []
  }
 ],
 "metadata": {
  "kernelspec": {
   "display_name": "Python 3",
   "language": "python",
   "name": "python3"
  },
  "language_info": {
   "codemirror_mode": {
    "name": "ipython",
    "version": 3
   },
   "file_extension": ".py",
   "mimetype": "text/x-python",
   "name": "python",
   "nbconvert_exporter": "python",
   "pygments_lexer": "ipython3",
   "version": "3.9.6"
  }
 },
 "nbformat": 4,
 "nbformat_minor": 2
}
